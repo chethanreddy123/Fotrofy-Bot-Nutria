{
 "cells": [
  {
   "cell_type": "code",
   "execution_count": null,
   "id": "b62dcb73",
   "metadata": {},
   "outputs": [],
   "source": [
    "=> Inheritance\n",
    "=> Polymorphism\n",
    "=> data abstraction\n",
    "=> encapsulation"
   ]
  },
  {
   "cell_type": "code",
   "execution_count": 33,
   "id": "7743a475",
   "metadata": {},
   "outputs": [],
   "source": [
    "class shape:\n",
    "    def area(self):\n",
    "        print(\"This is a generic shape\")\n",
    "\n",
    "class square(shape):\n",
    "    def __init__(self, side):\n",
    "        self.side = side\n",
    "    def area(self):\n",
    "        return self.side * self.side\n",
    "    def area(self, unit):\n",
    "        return f\"the are of square is {self.side * self.side} {unit}\"\n",
    "    \n",
    "class rectanlge(sh)"
   ]
  },
  {
   "cell_type": "code",
   "execution_count": 35,
   "id": "b49cec8e",
   "metadata": {},
   "outputs": [
    {
     "data": {
      "text/plain": [
       "'the are of square is 9 cm'"
      ]
     },
     "execution_count": 35,
     "metadata": {},
     "output_type": "execute_result"
    }
   ],
   "source": [
    "s = square(3)\n",
    "s.area(\"cm\")"
   ]
  },
  {
   "cell_type": "code",
   "execution_count": null,
   "id": "802641d6",
   "metadata": {},
   "outputs": [],
   "source": [
    "class for calcuating the body mass index using height and weight.....\n",
    "\n",
    "bmi = weight (in kgs) / height**2 in m"
   ]
  },
  {
   "cell_type": "code",
   "execution_count": 38,
   "id": "bd653abc",
   "metadata": {},
   "outputs": [],
   "source": [
    "class bmi():\n",
    "    def __init__(self,height, weight):\n",
    "        self.height = height\n",
    "        self.weight = weight\n",
    "    def cal_bmi(self):\n",
    "        return f\"the bmi is {self.weight/self.height**2} kg/m^2\"\n",
    "    def statu(self):\n",
    "        c = self.cal_bmi()\n",
    "        if c <= 16 :\n",
    "            retur"
   ]
  },
  {
   "cell_type": "code",
   "execution_count": 39,
   "id": "017e70f5",
   "metadata": {},
   "outputs": [
    {
     "data": {
      "text/plain": [
       "'the bmi is 22.22222222222222 kg/m^2'"
      ]
     },
     "execution_count": 39,
     "metadata": {},
     "output_type": "execute_result"
    }
   ],
   "source": [
    "aarav = bmi(1.50, 50)\n",
    "aarav.cal_bmi()"
   ]
  },
  {
   "cell_type": "code",
   "execution_count": null,
   "id": "23481786",
   "metadata": {},
   "outputs": [],
   "source": [
    "if bmi is between 16 to 24 is good, 24 obse, 16 mal nutriation "
   ]
  }
 ],
 "metadata": {
  "kernelspec": {
   "display_name": "Python 3.10 (tensorflow)",
   "language": "python",
   "name": "tensorflow"
  },
  "language_info": {
   "codemirror_mode": {
    "name": "ipython",
    "version": 3
   },
   "file_extension": ".py",
   "mimetype": "text/x-python",
   "name": "python",
   "nbconvert_exporter": "python",
   "pygments_lexer": "ipython3",
   "version": "3.10.11"
  }
 },
 "nbformat": 4,
 "nbformat_minor": 5
}
